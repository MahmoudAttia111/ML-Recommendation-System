{
 "cells": [
  {
   "cell_type": "markdown",
   "id": "fc68ffea-cb6a-4b9a-8ea5-87781092cda8",
   "metadata": {},
   "source": [
    "## If you don't have nltk installed, run the following command:\n",
    " "
   ]
  },
  {
   "cell_type": "code",
   "execution_count": 2,
   "id": "9c0bdedb-1feb-4408-b84b-2f8de97980b7",
   "metadata": {},
   "outputs": [],
   "source": [
    "# !pip install nltk\n"
   ]
  },
  {
   "cell_type": "markdown",
   "id": "82fa0892-b0c5-45ac-9726-29f665713605",
   "metadata": {},
   "source": [
    "# import libraries"
   ]
  },
  {
   "cell_type": "code",
   "execution_count": 4,
   "id": "99e080fa-9f98-47c7-9ee5-bd34f5b8624d",
   "metadata": {},
   "outputs": [],
   "source": [
    "import pandas as pd\n",
    "import numpy as np\n",
    "import scipy\n",
    "import random\n",
    "import math\n",
    "import nltk\n",
    "import sklearn\n",
    "\n",
    "from nltk.corpus import stopwords\n",
    "from sklearn.feature_extraction.text import TfidfVectorizer\n",
    "from sklearn.model_selection import train_test_split\n",
    "from sklearn.metrics.pairwise import cosine_similarity\n",
    "from sklearn.preprocessing import normalize"
   ]
  },
  {
   "cell_type": "markdown",
   "id": "87d180a1-1b29-4a76-a9b3-4d6067230e40",
   "metadata": {},
   "source": [
    "## Download stopwords"
   ]
  },
  {
   "cell_type": "code",
   "execution_count": 6,
   "id": "257e69a5-4133-456c-b3b3-ea730f5b0572",
   "metadata": {},
   "outputs": [
    {
     "name": "stderr",
     "output_type": "stream",
     "text": [
      "[nltk_data] Downloading package stopwords to\n",
      "[nltk_data]     C:\\Users\\Lenovo\\AppData\\Roaming\\nltk_data...\n",
      "[nltk_data]   Package stopwords is already up-to-date!\n"
     ]
    },
    {
     "data": {
      "text/plain": [
       "True"
      ]
     },
     "execution_count": 6,
     "metadata": {},
     "output_type": "execute_result"
    }
   ],
   "source": [
    "nltk.download('stopwords')"
   ]
  },
  {
   "cell_type": "markdown",
   "id": "3ce18289-c849-4d1a-b933-9af175bb5c9d",
   "metadata": {},
   "source": [
    "## import dataset"
   ]
  },
  {
   "cell_type": "code",
   "execution_count": 8,
   "id": "212e6b59-065b-4d1b-a7e4-b7f125547643",
   "metadata": {},
   "outputs": [],
   "source": [
    " \n",
    "article_df=pd.read_csv(fr\"D:\\data science\\Machine Learning\\New folder\\recommand system\\end-to-end-recommender-system-main\\end-to-end-recommender-system-main\\archive\\shared_articles.csv\")\n",
    "interaction_df=pd.read_csv(fr\"D:\\data science\\Machine Learning\\New folder\\recommand system\\end-to-end-recommender-system-main\\end-to-end-recommender-system-main\\archive\\users_interactions.csv\")\n"
   ]
  },
  {
   "cell_type": "code",
   "execution_count": 9,
   "id": "2e669bc6-97e1-499f-9650-e7cea8bb803c",
   "metadata": {},
   "outputs": [
    {
     "data": {
      "text/html": [
       "<div>\n",
       "<style scoped>\n",
       "    .dataframe tbody tr th:only-of-type {\n",
       "        vertical-align: middle;\n",
       "    }\n",
       "\n",
       "    .dataframe tbody tr th {\n",
       "        vertical-align: top;\n",
       "    }\n",
       "\n",
       "    .dataframe thead th {\n",
       "        text-align: right;\n",
       "    }\n",
       "</style>\n",
       "<table border=\"1\" class=\"dataframe\">\n",
       "  <thead>\n",
       "    <tr style=\"text-align: right;\">\n",
       "      <th></th>\n",
       "      <th>timestamp</th>\n",
       "      <th>eventType</th>\n",
       "      <th>contentId</th>\n",
       "      <th>authorPersonId</th>\n",
       "      <th>authorSessionId</th>\n",
       "      <th>authorUserAgent</th>\n",
       "      <th>authorRegion</th>\n",
       "      <th>authorCountry</th>\n",
       "      <th>contentType</th>\n",
       "      <th>url</th>\n",
       "      <th>title</th>\n",
       "      <th>text</th>\n",
       "      <th>lang</th>\n",
       "    </tr>\n",
       "  </thead>\n",
       "  <tbody>\n",
       "    <tr>\n",
       "      <th>0</th>\n",
       "      <td>1459192779</td>\n",
       "      <td>CONTENT REMOVED</td>\n",
       "      <td>-6451309518266745024</td>\n",
       "      <td>4340306774493623681</td>\n",
       "      <td>8940341205206233829</td>\n",
       "      <td>NaN</td>\n",
       "      <td>NaN</td>\n",
       "      <td>NaN</td>\n",
       "      <td>HTML</td>\n",
       "      <td>http://www.nytimes.com/2016/03/28/business/dea...</td>\n",
       "      <td>Ethereum, a Virtual Currency, Enables Transact...</td>\n",
       "      <td>All of this work is still very early. The firs...</td>\n",
       "      <td>en</td>\n",
       "    </tr>\n",
       "    <tr>\n",
       "      <th>1</th>\n",
       "      <td>1459193988</td>\n",
       "      <td>CONTENT SHARED</td>\n",
       "      <td>-4110354420726924665</td>\n",
       "      <td>4340306774493623681</td>\n",
       "      <td>8940341205206233829</td>\n",
       "      <td>NaN</td>\n",
       "      <td>NaN</td>\n",
       "      <td>NaN</td>\n",
       "      <td>HTML</td>\n",
       "      <td>http://www.nytimes.com/2016/03/28/business/dea...</td>\n",
       "      <td>Ethereum, a Virtual Currency, Enables Transact...</td>\n",
       "      <td>All of this work is still very early. The firs...</td>\n",
       "      <td>en</td>\n",
       "    </tr>\n",
       "    <tr>\n",
       "      <th>2</th>\n",
       "      <td>1459194146</td>\n",
       "      <td>CONTENT SHARED</td>\n",
       "      <td>-7292285110016212249</td>\n",
       "      <td>4340306774493623681</td>\n",
       "      <td>8940341205206233829</td>\n",
       "      <td>NaN</td>\n",
       "      <td>NaN</td>\n",
       "      <td>NaN</td>\n",
       "      <td>HTML</td>\n",
       "      <td>http://cointelegraph.com/news/bitcoin-future-w...</td>\n",
       "      <td>Bitcoin Future: When GBPcoin of Branson Wins O...</td>\n",
       "      <td>The alarm clock wakes me at 8:00 with stream o...</td>\n",
       "      <td>en</td>\n",
       "    </tr>\n",
       "    <tr>\n",
       "      <th>3</th>\n",
       "      <td>1459194474</td>\n",
       "      <td>CONTENT SHARED</td>\n",
       "      <td>-6151852268067518688</td>\n",
       "      <td>3891637997717104548</td>\n",
       "      <td>-1457532940883382585</td>\n",
       "      <td>NaN</td>\n",
       "      <td>NaN</td>\n",
       "      <td>NaN</td>\n",
       "      <td>HTML</td>\n",
       "      <td>https://cloudplatform.googleblog.com/2016/03/G...</td>\n",
       "      <td>Google Data Center 360° Tour</td>\n",
       "      <td>We're excited to share the Google Data Center ...</td>\n",
       "      <td>en</td>\n",
       "    </tr>\n",
       "    <tr>\n",
       "      <th>4</th>\n",
       "      <td>1459194497</td>\n",
       "      <td>CONTENT SHARED</td>\n",
       "      <td>2448026894306402386</td>\n",
       "      <td>4340306774493623681</td>\n",
       "      <td>8940341205206233829</td>\n",
       "      <td>NaN</td>\n",
       "      <td>NaN</td>\n",
       "      <td>NaN</td>\n",
       "      <td>HTML</td>\n",
       "      <td>https://bitcoinmagazine.com/articles/ibm-wants...</td>\n",
       "      <td>IBM Wants to \"Evolve the Internet\" With Blockc...</td>\n",
       "      <td>The Aite Group projects the blockchain market ...</td>\n",
       "      <td>en</td>\n",
       "    </tr>\n",
       "  </tbody>\n",
       "</table>\n",
       "</div>"
      ],
      "text/plain": [
       "    timestamp        eventType            contentId       authorPersonId  \\\n",
       "0  1459192779  CONTENT REMOVED -6451309518266745024  4340306774493623681   \n",
       "1  1459193988   CONTENT SHARED -4110354420726924665  4340306774493623681   \n",
       "2  1459194146   CONTENT SHARED -7292285110016212249  4340306774493623681   \n",
       "3  1459194474   CONTENT SHARED -6151852268067518688  3891637997717104548   \n",
       "4  1459194497   CONTENT SHARED  2448026894306402386  4340306774493623681   \n",
       "\n",
       "       authorSessionId authorUserAgent authorRegion authorCountry contentType  \\\n",
       "0  8940341205206233829             NaN          NaN           NaN        HTML   \n",
       "1  8940341205206233829             NaN          NaN           NaN        HTML   \n",
       "2  8940341205206233829             NaN          NaN           NaN        HTML   \n",
       "3 -1457532940883382585             NaN          NaN           NaN        HTML   \n",
       "4  8940341205206233829             NaN          NaN           NaN        HTML   \n",
       "\n",
       "                                                 url  \\\n",
       "0  http://www.nytimes.com/2016/03/28/business/dea...   \n",
       "1  http://www.nytimes.com/2016/03/28/business/dea...   \n",
       "2  http://cointelegraph.com/news/bitcoin-future-w...   \n",
       "3  https://cloudplatform.googleblog.com/2016/03/G...   \n",
       "4  https://bitcoinmagazine.com/articles/ibm-wants...   \n",
       "\n",
       "                                               title  \\\n",
       "0  Ethereum, a Virtual Currency, Enables Transact...   \n",
       "1  Ethereum, a Virtual Currency, Enables Transact...   \n",
       "2  Bitcoin Future: When GBPcoin of Branson Wins O...   \n",
       "3                       Google Data Center 360° Tour   \n",
       "4  IBM Wants to \"Evolve the Internet\" With Blockc...   \n",
       "\n",
       "                                                text lang  \n",
       "0  All of this work is still very early. The firs...   en  \n",
       "1  All of this work is still very early. The firs...   en  \n",
       "2  The alarm clock wakes me at 8:00 with stream o...   en  \n",
       "3  We're excited to share the Google Data Center ...   en  \n",
       "4  The Aite Group projects the blockchain market ...   en  "
      ]
     },
     "execution_count": 9,
     "metadata": {},
     "output_type": "execute_result"
    }
   ],
   "source": [
    "article_df.head()"
   ]
  },
  {
   "cell_type": "code",
   "execution_count": 10,
   "id": "ee88d87e-e4a3-4c85-8ccc-9052cc31d68c",
   "metadata": {},
   "outputs": [
    {
     "data": {
      "text/plain": [
       "array(['CONTENT REMOVED', 'CONTENT SHARED'], dtype=object)"
      ]
     },
     "execution_count": 10,
     "metadata": {},
     "output_type": "execute_result"
    }
   ],
   "source": [
    "article_df['eventType'].unique()"
   ]
  },
  {
   "cell_type": "markdown",
   "id": "5970d545-baaf-473f-ac4b-967c331496a4",
   "metadata": {},
   "source": [
    "## Filter articles"
   ]
  },
  {
   "cell_type": "code",
   "execution_count": 12,
   "id": "22cdac50-498f-4db6-a500-6979d475a7a6",
   "metadata": {},
   "outputs": [],
   "source": [
    "article_df=article_df[article_df['eventType']=='CONTENT SHARED']"
   ]
  },
  {
   "cell_type": "code",
   "execution_count": 13,
   "id": "b0ca162a-8dc1-4358-aeca-060a364e3d9b",
   "metadata": {},
   "outputs": [
    {
     "data": {
      "text/plain": [
       "(3047, 13)"
      ]
     },
     "execution_count": 13,
     "metadata": {},
     "output_type": "execute_result"
    }
   ],
   "source": [
    "article_df.shape"
   ]
  },
  {
   "cell_type": "code",
   "execution_count": 14,
   "id": "865d069e-7609-43d8-86ef-5d45e3077a6f",
   "metadata": {},
   "outputs": [
    {
     "data": {
      "text/plain": [
       "array(['VIEW', 'FOLLOW', 'BOOKMARK', 'LIKE', 'COMMENT CREATED'],\n",
       "      dtype=object)"
      ]
     },
     "execution_count": 14,
     "metadata": {},
     "output_type": "execute_result"
    }
   ],
   "source": [
    "interaction_df['eventType'].unique()"
   ]
  },
  {
   "cell_type": "markdown",
   "id": "5ed25a9a-65cb-4e24-899d-f2f1839b9ee3",
   "metadata": {},
   "source": [
    "## Feature engineering"
   ]
  },
  {
   "cell_type": "markdown",
   "id": "00ed0c23-d63d-45ea-97ae-80f34adf7906",
   "metadata": {},
   "source": [
    "### filling the users-tims matrix"
   ]
  },
  {
   "cell_type": "code",
   "execution_count": 17,
   "id": "7a894500-022c-4d80-8660-d2d44140a167",
   "metadata": {},
   "outputs": [],
   "source": [
    "eventType_strength = {'VIEW':1.0, 'FOLLOW':3.0, 'BOOKMARK':2.5, 'LIKE':2.0, 'COMMENT CREATED':4.0}\n",
    "interaction_df['eventType_strength'] = interaction_df['eventType'].map(eventType_strength)"
   ]
  },
  {
   "cell_type": "code",
   "execution_count": 18,
   "id": "02cb3aa6-ad9a-4d23-8388-d21bcbfeb296",
   "metadata": {},
   "outputs": [
    {
     "data": {
      "text/plain": [
       "0        1.0\n",
       "1        1.0\n",
       "2        1.0\n",
       "3        3.0\n",
       "4        1.0\n",
       "        ... \n",
       "72307    2.0\n",
       "72308    1.0\n",
       "72309    1.0\n",
       "72310    1.0\n",
       "72311    1.0\n",
       "Name: eventType_strength, Length: 72312, dtype: float64"
      ]
     },
     "execution_count": 18,
     "metadata": {},
     "output_type": "execute_result"
    }
   ],
   "source": [
    "interaction_df['eventType_strength']"
   ]
  },
  {
   "cell_type": "markdown",
   "id": "83813724-ec85-4ba6-a87c-7fa885b9dc45",
   "metadata": {},
   "source": [
    "## Keep only users with at least 5 interactions"
   ]
  },
  {
   "cell_type": "code",
   "execution_count": 20,
   "id": "120db0a9-f860-4eac-bede-370a697066ab",
   "metadata": {},
   "outputs": [
    {
     "name": "stdout",
     "output_type": "stream",
     "text": [
      "users with as least 5 interac 1140\n"
     ]
    }
   ],
   "source": [
    "users_interactions_count_df = interaction_df.groupby(['personId', 'contentId']).size().groupby('personId').size()\n",
    "users_with_enough_interactions_df = users_interactions_count_df[users_interactions_count_df >= 5].reset_index()[['personId']]\n",
    "interactions_df = interaction_df.merge(users_with_enough_interactions_df, how='right', on='personId')\n",
    "print(f\"users with as least 5 interac {len(users_with_enough_interactions_df)}\")"
   ]
  },
  {
   "cell_type": "code",
   "execution_count": 21,
   "id": "24b44a27-90bc-4f96-a44e-38d815cb5405",
   "metadata": {},
   "outputs": [
    {
     "name": "stdout",
     "output_type": "stream",
     "text": [
      "of interaction from users with at leaast 5 inter 69868\n"
     ]
    }
   ],
   "source": [
    "print(f\"of interaction from users with at leaast 5 inter {len(interactions_df)}\")"
   ]
  },
  {
   "cell_type": "code",
   "execution_count": 22,
   "id": "3d2e38bc-c295-4c35-b5ab-1b6fc04279b6",
   "metadata": {},
   "outputs": [
    {
     "data": {
      "text/html": [
       "<div>\n",
       "<style scoped>\n",
       "    .dataframe tbody tr th:only-of-type {\n",
       "        vertical-align: middle;\n",
       "    }\n",
       "\n",
       "    .dataframe tbody tr th {\n",
       "        vertical-align: top;\n",
       "    }\n",
       "\n",
       "    .dataframe thead th {\n",
       "        text-align: right;\n",
       "    }\n",
       "</style>\n",
       "<table border=\"1\" class=\"dataframe\">\n",
       "  <thead>\n",
       "    <tr style=\"text-align: right;\">\n",
       "      <th></th>\n",
       "      <th>timestamp</th>\n",
       "      <th>eventType</th>\n",
       "      <th>contentId</th>\n",
       "      <th>personId</th>\n",
       "      <th>sessionId</th>\n",
       "      <th>userAgent</th>\n",
       "      <th>userRegion</th>\n",
       "      <th>userCountry</th>\n",
       "      <th>eventType_strength</th>\n",
       "    </tr>\n",
       "  </thead>\n",
       "  <tbody>\n",
       "    <tr>\n",
       "      <th>0</th>\n",
       "      <td>1463138398</td>\n",
       "      <td>VIEW</td>\n",
       "      <td>7516228655554309785</td>\n",
       "      <td>-9223121837663643404</td>\n",
       "      <td>-4482197405545551645</td>\n",
       "      <td>Mozilla/5.0 (Windows NT 6.3; WOW64) AppleWebKi...</td>\n",
       "      <td>SP</td>\n",
       "      <td>BR</td>\n",
       "      <td>1.0</td>\n",
       "    </tr>\n",
       "    <tr>\n",
       "      <th>1</th>\n",
       "      <td>1463656314</td>\n",
       "      <td>VIEW</td>\n",
       "      <td>3041906492387035176</td>\n",
       "      <td>-9223121837663643404</td>\n",
       "      <td>-7824685088995468735</td>\n",
       "      <td>Mozilla/5.0 (Windows NT 6.3; WOW64) AppleWebKi...</td>\n",
       "      <td>SP</td>\n",
       "      <td>BR</td>\n",
       "      <td>1.0</td>\n",
       "    </tr>\n",
       "    <tr>\n",
       "      <th>2</th>\n",
       "      <td>1464113091</td>\n",
       "      <td>VIEW</td>\n",
       "      <td>-3750879736572068916</td>\n",
       "      <td>-9223121837663643404</td>\n",
       "      <td>-2774275024909061125</td>\n",
       "      <td>Mozilla/5.0 (Windows NT 6.3; WOW64) AppleWebKi...</td>\n",
       "      <td>SP</td>\n",
       "      <td>BR</td>\n",
       "      <td>1.0</td>\n",
       "    </tr>\n",
       "    <tr>\n",
       "      <th>3</th>\n",
       "      <td>1462283851</td>\n",
       "      <td>VIEW</td>\n",
       "      <td>-730957269757756529</td>\n",
       "      <td>-9223121837663643404</td>\n",
       "      <td>2625340673871268120</td>\n",
       "      <td>Mozilla/5.0 (Windows NT 6.3; WOW64) AppleWebKi...</td>\n",
       "      <td>SP</td>\n",
       "      <td>BR</td>\n",
       "      <td>1.0</td>\n",
       "    </tr>\n",
       "    <tr>\n",
       "      <th>4</th>\n",
       "      <td>1462452127</td>\n",
       "      <td>VIEW</td>\n",
       "      <td>-8949113594875411859</td>\n",
       "      <td>-9223121837663643404</td>\n",
       "      <td>-3673331845456357462</td>\n",
       "      <td>Mozilla/5.0 (Windows NT 6.3; WOW64) AppleWebKi...</td>\n",
       "      <td>SP</td>\n",
       "      <td>BR</td>\n",
       "      <td>1.0</td>\n",
       "    </tr>\n",
       "  </tbody>\n",
       "</table>\n",
       "</div>"
      ],
      "text/plain": [
       "    timestamp eventType            contentId             personId  \\\n",
       "0  1463138398      VIEW  7516228655554309785 -9223121837663643404   \n",
       "1  1463656314      VIEW  3041906492387035176 -9223121837663643404   \n",
       "2  1464113091      VIEW -3750879736572068916 -9223121837663643404   \n",
       "3  1462283851      VIEW  -730957269757756529 -9223121837663643404   \n",
       "4  1462452127      VIEW -8949113594875411859 -9223121837663643404   \n",
       "\n",
       "             sessionId                                          userAgent  \\\n",
       "0 -4482197405545551645  Mozilla/5.0 (Windows NT 6.3; WOW64) AppleWebKi...   \n",
       "1 -7824685088995468735  Mozilla/5.0 (Windows NT 6.3; WOW64) AppleWebKi...   \n",
       "2 -2774275024909061125  Mozilla/5.0 (Windows NT 6.3; WOW64) AppleWebKi...   \n",
       "3  2625340673871268120  Mozilla/5.0 (Windows NT 6.3; WOW64) AppleWebKi...   \n",
       "4 -3673331845456357462  Mozilla/5.0 (Windows NT 6.3; WOW64) AppleWebKi...   \n",
       "\n",
       "  userRegion userCountry  eventType_strength  \n",
       "0         SP          BR                 1.0  \n",
       "1         SP          BR                 1.0  \n",
       "2         SP          BR                 1.0  \n",
       "3         SP          BR                 1.0  \n",
       "4         SP          BR                 1.0  "
      ]
     },
     "execution_count": 22,
     "metadata": {},
     "output_type": "execute_result"
    }
   ],
   "source": [
    "interactions_df.head(5)"
   ]
  },
  {
   "cell_type": "code",
   "execution_count": 23,
   "id": "fe4ad850-7b20-4616-a0ea-c669ded378f3",
   "metadata": {},
   "outputs": [
    {
     "data": {
      "text/plain": [
       "eventType        eventType_strength\n",
       "BOOKMARK         2.5                    2420\n",
       "COMMENT CREATED  4.0                    1579\n",
       "FOLLOW           3.0                    1379\n",
       "LIKE             2.0                    5625\n",
       "VIEW             1.0                   58865\n",
       "dtype: int64"
      ]
     },
     "execution_count": 23,
     "metadata": {},
     "output_type": "execute_result"
    }
   ],
   "source": [
    "interactions_df.groupby(['eventType','eventType_strength']).size()"
   ]
  },
  {
   "cell_type": "markdown",
   "id": "7e01a323-83bf-4102-9a4a-396d8e7846b8",
   "metadata": {},
   "source": [
    "## Apply log transformation to smooth the distribution "
   ]
  },
  {
   "cell_type": "code",
   "execution_count": 25,
   "id": "41b64d69-94bf-4ab7-ab1d-4a48ff1cf312",
   "metadata": {},
   "outputs": [
    {
     "name": "stdout",
     "output_type": "stream",
     "text": [
      "# of unique user'item interaction39106\n"
     ]
    },
    {
     "data": {
      "text/html": [
       "<div>\n",
       "<style scoped>\n",
       "    .dataframe tbody tr th:only-of-type {\n",
       "        vertical-align: middle;\n",
       "    }\n",
       "\n",
       "    .dataframe tbody tr th {\n",
       "        vertical-align: top;\n",
       "    }\n",
       "\n",
       "    .dataframe thead th {\n",
       "        text-align: right;\n",
       "    }\n",
       "</style>\n",
       "<table border=\"1\" class=\"dataframe\">\n",
       "  <thead>\n",
       "    <tr style=\"text-align: right;\">\n",
       "      <th></th>\n",
       "      <th>personId</th>\n",
       "      <th>contentId</th>\n",
       "      <th>eventType_strength</th>\n",
       "    </tr>\n",
       "  </thead>\n",
       "  <tbody>\n",
       "    <tr>\n",
       "      <th>0</th>\n",
       "      <td>-9223121837663643404</td>\n",
       "      <td>-8949113594875411859</td>\n",
       "      <td>1.000000</td>\n",
       "    </tr>\n",
       "    <tr>\n",
       "      <th>1</th>\n",
       "      <td>-9223121837663643404</td>\n",
       "      <td>-8377626164558006982</td>\n",
       "      <td>1.000000</td>\n",
       "    </tr>\n",
       "    <tr>\n",
       "      <th>2</th>\n",
       "      <td>-9223121837663643404</td>\n",
       "      <td>-8208801367848627943</td>\n",
       "      <td>1.000000</td>\n",
       "    </tr>\n",
       "    <tr>\n",
       "      <th>3</th>\n",
       "      <td>-9223121837663643404</td>\n",
       "      <td>-8187220755213888616</td>\n",
       "      <td>1.000000</td>\n",
       "    </tr>\n",
       "    <tr>\n",
       "      <th>4</th>\n",
       "      <td>-9223121837663643404</td>\n",
       "      <td>-7423191370472335463</td>\n",
       "      <td>3.169925</td>\n",
       "    </tr>\n",
       "    <tr>\n",
       "      <th>5</th>\n",
       "      <td>-9223121837663643404</td>\n",
       "      <td>-7331393944609614247</td>\n",
       "      <td>1.000000</td>\n",
       "    </tr>\n",
       "    <tr>\n",
       "      <th>6</th>\n",
       "      <td>-9223121837663643404</td>\n",
       "      <td>-6872546942144599345</td>\n",
       "      <td>1.000000</td>\n",
       "    </tr>\n",
       "    <tr>\n",
       "      <th>7</th>\n",
       "      <td>-9223121837663643404</td>\n",
       "      <td>-6728844082024523434</td>\n",
       "      <td>1.000000</td>\n",
       "    </tr>\n",
       "    <tr>\n",
       "      <th>8</th>\n",
       "      <td>-9223121837663643404</td>\n",
       "      <td>-6590819806697898649</td>\n",
       "      <td>1.000000</td>\n",
       "    </tr>\n",
       "    <tr>\n",
       "      <th>9</th>\n",
       "      <td>-9223121837663643404</td>\n",
       "      <td>-6558712014192834002</td>\n",
       "      <td>1.584963</td>\n",
       "    </tr>\n",
       "  </tbody>\n",
       "</table>\n",
       "</div>"
      ],
      "text/plain": [
       "              personId            contentId  eventType_strength\n",
       "0 -9223121837663643404 -8949113594875411859            1.000000\n",
       "1 -9223121837663643404 -8377626164558006982            1.000000\n",
       "2 -9223121837663643404 -8208801367848627943            1.000000\n",
       "3 -9223121837663643404 -8187220755213888616            1.000000\n",
       "4 -9223121837663643404 -7423191370472335463            3.169925\n",
       "5 -9223121837663643404 -7331393944609614247            1.000000\n",
       "6 -9223121837663643404 -6872546942144599345            1.000000\n",
       "7 -9223121837663643404 -6728844082024523434            1.000000\n",
       "8 -9223121837663643404 -6590819806697898649            1.000000\n",
       "9 -9223121837663643404 -6558712014192834002            1.584963"
      ]
     },
     "execution_count": 25,
     "metadata": {},
     "output_type": "execute_result"
    }
   ],
   "source": [
    "import math \n",
    "def smooth_user_perferece(x):\n",
    "    return math.log(1+x,2)\n",
    "interactionFullDf=interactions_df.groupby(['personId','contentId'])['eventType_strength'].sum().apply(smooth_user_perferece).reset_index()\n",
    "print(f\"# of unique user'item interaction{len(interactionFullDf)}\")\n",
    "interactionFullDf.head(10)"
   ]
  },
  {
   "cell_type": "markdown",
   "id": "e7fb0001-ee90-4342-acfc-7157a392c8a8",
   "metadata": {},
   "source": [
    "## Clean text data"
   ]
  },
  {
   "cell_type": "code",
   "execution_count": 27,
   "id": "be816032-fc8b-48a8-8118-46f5665781ea",
   "metadata": {},
   "outputs": [],
   "source": [
    "def clean_text(text):\n",
    "    try:\n",
    "        return text.lower().replace(\"\\n\", \" \").replace(\"\\\"\", \"\").strip()\n",
    "    except:\n",
    "        return \"\"\n",
    "\n",
    "article_df['title'] = article_df['title'].apply(clean_text)\n",
    "article_df['text'] = article_df['text'].apply(clean_text)"
   ]
  },
  {
   "cell_type": "markdown",
   "id": "d380b516-0576-4e53-91cf-22f8fa86e499",
   "metadata": {},
   "source": [
    "## item profiles"
   ]
  },
  {
   "cell_type": "code",
   "execution_count": 29,
   "id": "4732dd77-9cdd-4bb9-a18e-7d8aa9588909",
   "metadata": {},
   "outputs": [],
   "source": [
    "stopwords_list = stopwords.words('english') + stopwords.words('portuguese')\n",
    "vectorizer = TfidfVectorizer(analyzer='word', ngram_range=(1, 2), min_df=0.005, max_df=0.6,\n",
    "                              max_features=6000, stop_words=stopwords_list)\n",
    "tfidf_matrix = vectorizer.fit_transform(article_df['title'] + \" \" + article_df['text'])\n",
    "item_ids = article_df['contentId'].tolist()\n"
   ]
  },
  {
   "cell_type": "code",
   "execution_count": 30,
   "id": "08a3ca47-3700-4ba3-8d0c-76fc9fd55d27",
   "metadata": {},
   "outputs": [
    {
     "data": {
      "text/plain": [
       "(3047, 6000)"
      ]
     },
     "execution_count": 30,
     "metadata": {},
     "output_type": "execute_result"
    }
   ],
   "source": [
    "tfidf_matrix.shape"
   ]
  },
  {
   "cell_type": "markdown",
   "id": "ecdcdbe5-f01b-40c1-9ad7-783b74c72b31",
   "metadata": {},
   "source": [
    "## Build train and test sets"
   ]
  },
  {
   "cell_type": "code",
   "execution_count": 32,
   "id": "64b1c691-2ba5-4b4a-b06a-359293159657",
   "metadata": {
    "scrolled": true
   },
   "outputs": [],
   "source": [
    "interactions_train_df, interactions_test_df = train_test_split(interactionFullDf, stratify=interactionFullDf['personId'], test_size=0.3, random_state=42)"
   ]
  },
  {
   "cell_type": "code",
   "execution_count": 33,
   "id": "36e3c7ac-0f83-48e0-be25-3704696f8dfd",
   "metadata": {},
   "outputs": [
    {
     "data": {
      "text/plain": [
       "personId\n",
       "3609194402293569455    673\n",
       "dtype: int64"
      ]
     },
     "execution_count": 33,
     "metadata": {},
     "output_type": "execute_result"
    }
   ],
   "source": [
    "interactions_train_df[interactions_train_df['personId']==3609194402293569455].groupby('personId').size()"
   ]
  },
  {
   "cell_type": "code",
   "execution_count": 34,
   "id": "d84c7a8a-ba3b-4f56-b4de-a685bacf1d41",
   "metadata": {},
   "outputs": [
    {
     "data": {
      "text/plain": [
       "personId\n",
       "3609194402293569455    288\n",
       "dtype: int64"
      ]
     },
     "execution_count": 34,
     "metadata": {},
     "output_type": "execute_result"
    }
   ],
   "source": [
    "interactions_test_df[interactions_test_df['personId']==3609194402293569455].groupby('personId').size()"
   ]
  },
  {
   "cell_type": "markdown",
   "id": "d38e28f9-cdd6-4d8d-953a-5b3db5e71e57",
   "metadata": {},
   "source": [
    "## Build user profiles"
   ]
  },
  {
   "cell_type": "code",
   "execution_count": 36,
   "id": "b302ce41-efe7-4448-8b27-cab53fe5ee5b",
   "metadata": {},
   "outputs": [],
   "source": [
    "def get_item_profile(item_id):\n",
    "    idx = item_ids.index(item_id)\n",
    "    return tfidf_matrix[idx:idx + 1]"
   ]
  },
  {
   "cell_type": "code",
   "execution_count": 37,
   "id": "baf0288c-fd0c-4531-9441-0778145c7d80",
   "metadata": {},
   "outputs": [],
   "source": [
    "def get_item_profiles(ids):\n",
    "    return scipy.sparse.vstack([get_item_profile(x) for x in ids])\n"
   ]
  },
  {
   "cell_type": "code",
   "execution_count": 38,
   "id": "0b56460b-6b60-4c4b-9684-b1f787773994",
   "metadata": {},
   "outputs": [],
   "source": [
    "def build_users_profile(person_id, interactions_indexed_df):\n",
    "    interactions_person_df = interactions_indexed_df.loc[person_id]\n",
    "    user_item_profiles = get_item_profiles(interactions_person_df['contentId'])\n",
    "    user_item_strengths = np.array(interactions_person_df['eventType_strength']).reshape(-1, 1)\n",
    "    weighted_avg = np.sum(user_item_profiles.multiply(user_item_strengths), axis=0) / np.sum(user_item_strengths)\n",
    "    return normalize(np.asarray(weighted_avg))\n",
    " \n",
    " "
   ]
  },
  {
   "cell_type": "code",
   "execution_count": 39,
   "id": "0b3263b6-5880-4346-9ecb-d0a276a54f5a",
   "metadata": {},
   "outputs": [],
   "source": [
    "def build_users_profiles():\n",
    "    interactions_indexed_df = interactions_train_df[interactions_train_df['contentId'].isin(article_df['contentId'])].set_index('personId')\n",
    "    return {person_id: build_users_profile(person_id, interactions_indexed_df) for person_id in interactions_indexed_df.index.unique()}\n"
   ]
  },
  {
   "cell_type": "code",
   "execution_count": 40,
   "id": "5aa6de37-1ad9-4363-a069-cfe9703ed82e",
   "metadata": {},
   "outputs": [
    {
     "data": {
      "text/plain": [
       "1140"
      ]
     },
     "execution_count": 40,
     "metadata": {},
     "output_type": "execute_result"
    }
   ],
   "source": [
    "user_profiles=build_users_profiles()\n",
    "len(user_profiles)\n",
    "\n",
    "\n"
   ]
  },
  {
   "cell_type": "code",
   "execution_count": 41,
   "id": "870240a2-7f2d-452f-9180-fb36edf441d9",
   "metadata": {},
   "outputs": [
    {
     "data": {
      "text/plain": [
       "[3937943558206985686,\n",
       " 1874422396201148365,\n",
       " 5598537709124463353,\n",
       " -4165818767652094649,\n",
       " 2416280733544962613]"
      ]
     },
     "execution_count": 41,
     "metadata": {},
     "output_type": "execute_result"
    }
   ],
   "source": [
    "list(user_profiles.keys())[:5] "
   ]
  },
  {
   "cell_type": "code",
   "execution_count": 42,
   "id": "cf8780aa-7a21-425e-8b82-15eda11d957a",
   "metadata": {},
   "outputs": [
    {
     "name": "stdout",
     "output_type": "stream",
     "text": [
      "(1, 6000)\n"
     ]
    },
    {
     "data": {
      "text/html": [
       "<div>\n",
       "<style scoped>\n",
       "    .dataframe tbody tr th:only-of-type {\n",
       "        vertical-align: middle;\n",
       "    }\n",
       "\n",
       "    .dataframe tbody tr th {\n",
       "        vertical-align: top;\n",
       "    }\n",
       "\n",
       "    .dataframe thead th {\n",
       "        text-align: right;\n",
       "    }\n",
       "</style>\n",
       "<table border=\"1\" class=\"dataframe\">\n",
       "  <thead>\n",
       "    <tr style=\"text-align: right;\">\n",
       "      <th></th>\n",
       "      <th>token</th>\n",
       "      <th>relevance</th>\n",
       "    </tr>\n",
       "  </thead>\n",
       "  <tbody>\n",
       "    <tr>\n",
       "      <th>0</th>\n",
       "      <td>google</td>\n",
       "      <td>0.195060</td>\n",
       "    </tr>\n",
       "    <tr>\n",
       "      <th>1</th>\n",
       "      <td>digital</td>\n",
       "      <td>0.152890</td>\n",
       "    </tr>\n",
       "    <tr>\n",
       "      <th>2</th>\n",
       "      <td>data</td>\n",
       "      <td>0.146311</td>\n",
       "    </tr>\n",
       "    <tr>\n",
       "      <th>3</th>\n",
       "      <td>drupal</td>\n",
       "      <td>0.128583</td>\n",
       "    </tr>\n",
       "    <tr>\n",
       "      <th>4</th>\n",
       "      <td>new</td>\n",
       "      <td>0.127767</td>\n",
       "    </tr>\n",
       "    <tr>\n",
       "      <th>5</th>\n",
       "      <td>cloud</td>\n",
       "      <td>0.121760</td>\n",
       "    </tr>\n",
       "    <tr>\n",
       "      <th>6</th>\n",
       "      <td>company</td>\n",
       "      <td>0.121182</td>\n",
       "    </tr>\n",
       "    <tr>\n",
       "      <th>7</th>\n",
       "      <td>business</td>\n",
       "      <td>0.113361</td>\n",
       "    </tr>\n",
       "    <tr>\n",
       "      <th>8</th>\n",
       "      <td>companies</td>\n",
       "      <td>0.111871</td>\n",
       "    </tr>\n",
       "    <tr>\n",
       "      <th>9</th>\n",
       "      <td>learning</td>\n",
       "      <td>0.110029</td>\n",
       "    </tr>\n",
       "    <tr>\n",
       "      <th>10</th>\n",
       "      <td>ai</td>\n",
       "      <td>0.099814</td>\n",
       "    </tr>\n",
       "    <tr>\n",
       "      <th>11</th>\n",
       "      <td>one</td>\n",
       "      <td>0.099214</td>\n",
       "    </tr>\n",
       "    <tr>\n",
       "      <th>12</th>\n",
       "      <td>like</td>\n",
       "      <td>0.093226</td>\n",
       "    </tr>\n",
       "    <tr>\n",
       "      <th>13</th>\n",
       "      <td>technology</td>\n",
       "      <td>0.092456</td>\n",
       "    </tr>\n",
       "    <tr>\n",
       "      <th>14</th>\n",
       "      <td>people</td>\n",
       "      <td>0.089425</td>\n",
       "    </tr>\n",
       "    <tr>\n",
       "      <th>15</th>\n",
       "      <td>machine</td>\n",
       "      <td>0.089101</td>\n",
       "    </tr>\n",
       "    <tr>\n",
       "      <th>16</th>\n",
       "      <td>machine learning</td>\n",
       "      <td>0.088814</td>\n",
       "    </tr>\n",
       "    <tr>\n",
       "      <th>17</th>\n",
       "      <td>customer</td>\n",
       "      <td>0.088368</td>\n",
       "    </tr>\n",
       "    <tr>\n",
       "      <th>18</th>\n",
       "      <td>time</td>\n",
       "      <td>0.085252</td>\n",
       "    </tr>\n",
       "    <tr>\n",
       "      <th>19</th>\n",
       "      <td>also</td>\n",
       "      <td>0.084901</td>\n",
       "    </tr>\n",
       "  </tbody>\n",
       "</table>\n",
       "</div>"
      ],
      "text/plain": [
       "               token  relevance\n",
       "0             google   0.195060\n",
       "1            digital   0.152890\n",
       "2               data   0.146311\n",
       "3             drupal   0.128583\n",
       "4                new   0.127767\n",
       "5              cloud   0.121760\n",
       "6            company   0.121182\n",
       "7           business   0.113361\n",
       "8          companies   0.111871\n",
       "9           learning   0.110029\n",
       "10                ai   0.099814\n",
       "11               one   0.099214\n",
       "12              like   0.093226\n",
       "13        technology   0.092456\n",
       "14            people   0.089425\n",
       "15           machine   0.089101\n",
       "16  machine learning   0.088814\n",
       "17          customer   0.088368\n",
       "18              time   0.085252\n",
       "19              also   0.084901"
      ]
     },
     "execution_count": 42,
     "metadata": {},
     "output_type": "execute_result"
    }
   ],
   "source": [
    "# show an example for user profiles >> random user \n",
    "tfidf_feature_names = vectorizer.get_feature_names_out()\n",
    "myprofile = user_profiles[ 2416280733544962613]\n",
    "print(myprofile.shape)\n",
    "pd.DataFrame(sorted(zip(tfidf_feature_names,user_profiles[ 2416280733544962613].flatten().tolist()),key = lambda x : -x[1])[:20],\n",
    "            columns = ['token','relevance'])"
   ]
  },
  {
   "cell_type": "markdown",
   "id": "cafc9542-cd8c-49fc-ac71-5dd09bbb6aab",
   "metadata": {},
   "source": [
    "## Content-based Filtering Model"
   ]
  },
  {
   "cell_type": "code",
   "execution_count": 44,
   "id": "f25fd2f8-0709-4267-9119-84c060934c00",
   "metadata": {},
   "outputs": [],
   "source": [
    "class ContentBasedRecommender:\n",
    "    ModelName = 'Content_Based'\n",
    "\n",
    "    def __init__(self, item_df=None):\n",
    "        self.item_ids = item_ids\n",
    "        self.item_df = item_df\n",
    "\n",
    "    def get_model_name(self):\n",
    "        return self.ModelName\n",
    "\n",
    "    def _get_similar_items_to_user_profile(self, person_id, topn=500):\n",
    "        cosine_similarities = cosine_similarity(user_profiles[person_id], tfidf_matrix)\n",
    "        similar_indices = cosine_similarities.argsort().flatten()[-topn:]\n",
    "        similar_items = sorted([(item_ids[i], cosine_similarities[0, i]) for i in similar_indices], key=lambda x: -x[1])\n",
    "        return similar_items\n",
    "\n",
    "    def _recommend_items(self, user_id, items_to_ignore=[], topn=10, verbose=False):\n",
    "        similar_items = self._get_similar_items_to_user_profile(user_id)\n",
    "        filtered_items = list(filter(lambda x: x[0] not in items_to_ignore, similar_items))\n",
    "        recommendations_df = pd.DataFrame(filtered_items, columns=['contentId', 'recStrength']).head(topn)\n",
    "        if verbose:\n",
    "            if self.item_df is None:\n",
    "                raise Exception('item_df is required in verbose mode')\n",
    "            recommendations_df = recommendations_df.merge(self.item_df, how='left', on='contentId')[['recStrength', 'contentId', 'title', 'url', 'lang']]\n",
    "        return recommendations_df\n",
    "\n",
    "    "
   ]
  },
  {
   "cell_type": "code",
   "execution_count": 45,
   "id": "803777ad-3740-4648-9cbe-47f122260862",
   "metadata": {},
   "outputs": [],
   "source": [
    "content_model = ContentBasedRecommender(article_df)"
   ]
  },
  {
   "cell_type": "markdown",
   "id": "b999bef6-f9f5-460b-93b5-8744d696d3a0",
   "metadata": {},
   "source": [
    "## model evalutor"
   ]
  },
  {
   "cell_type": "code",
   "execution_count": 47,
   "id": "532fe209-da9e-471c-b312-041ece644845",
   "metadata": {},
   "outputs": [],
   "source": [
    "# to speed up the searches during evaluation\n",
    "interactions_full_indexed_df = interactionFullDf.set_index('personId')\n",
    "interactions_train_indexed_df = interactions_train_df.set_index('personId')\n",
    "interactions_test_indexed_df = interactions_test_df.set_index('personId')\n"
   ]
  },
  {
   "cell_type": "code",
   "execution_count": 48,
   "id": "aada6364-4fa0-4634-b930-fff1a5b1756b",
   "metadata": {},
   "outputs": [],
   "source": [
    "# top_n accuracy metrics consts\n",
    "EVAl_RandomSample_NON_Interacted_ITEMS = 100\n",
    "class ModelEvaluator:\n",
    "    def get_items_interacted(self, person_id, interaction_df):\n",
    "        interacted_items = interaction_df.loc[person_id]['contentId']\n",
    "        return set(interacted_items if isinstance(interacted_items, pd.Series) else [interacted_items])\n",
    "\n",
    "    def get_not_interacted_items_sample(self, person_id, sample_size, seed=42):\n",
    "        interacted_items = self.get_items_interacted(person_id, interactions_full_indexed_df)\n",
    "        all_items = set(article_df['contentId'])\n",
    "        non_interacted_items = all_items - interacted_items\n",
    "        sample_size = min(len(non_interacted_items), sample_size)  # ✅ إصلاح هنا\n",
    "        random.seed(seed)\n",
    "        return set(random.sample(list(non_interacted_items), sample_size))\n",
    "\n",
    "    def _verify_hit_top_n(self, item_id, recommended_items, topn):\n",
    "        try:\n",
    "            index = next(i for i, c in enumerate(recommended_items) if c == item_id)\n",
    "        except:\n",
    "            index = -1\n",
    "        hit = int(index in range(topn))\n",
    "        return hit, index\n",
    "\n",
    "    def evaluate_model_for_user(self, model, person_id):\n",
    "        test_interactions = interactions_test_indexed_df.loc[person_id]\n",
    "        if isinstance(test_interactions, pd.Series):\n",
    "            interacted_items = {test_interactions['contentId']}\n",
    "        else:\n",
    "            interacted_items = set(test_interactions['contentId'])\n",
    "\n",
    "        recommended_df = model._recommend_items(person_id, items_to_ignore=self.get_items_interacted(person_id, interactions_train_indexed_df), topn=500)\n",
    "        valid_recommendations = []\n",
    "        hits_at_5 = hits_at_10 = 0\n",
    "\n",
    "        for item_id in interacted_items:\n",
    "            non_interacted_sample = self.get_not_interacted_items_sample(person_id, 100, seed=item_id % (2 ** 32))\n",
    "            test_items = non_interacted_sample.union({item_id})\n",
    "            recs = recommended_df[recommended_df['contentId'].isin(test_items)]['contentId'].values\n",
    "\n",
    "            hit5, _ = self._verify_hit_top_n(item_id, recs, 5)\n",
    "            hit10, _ = self._verify_hit_top_n(item_id, recs, 10)\n",
    "\n",
    "            hits_at_5 += hit5\n",
    "            hits_at_10 += hit10\n",
    "\n",
    "        return {\n",
    "            'hits@5_count': hits_at_5,\n",
    "            'hits@10_count': hits_at_10,\n",
    "            'interacted_count': len(interacted_items)\n",
    "        }\n",
    "\n",
    "    def evaluate_model(self, model):\n",
    "        people_metrics = []\n",
    "        for idx, person_id in enumerate(interactions_test_indexed_df.index.unique().values):\n",
    "            metrics = self.evaluate_model_for_user(model, person_id)\n",
    "            metrics['_person_id'] = person_id\n",
    "            people_metrics.append(metrics)\n",
    "        detailed_df = pd.DataFrame(people_metrics)\n",
    "\n",
    "        recall_at_5 = detailed_df['hits@5_count'].sum() / detailed_df['interacted_count'].sum()\n",
    "        recall_at_10 = detailed_df['hits@10_count'].sum() / detailed_df['interacted_count'].sum()\n",
    "\n",
    "        return {\n",
    "            'modelName': model.get_model_name(),\n",
    "            'recall@5': recall_at_5,\n",
    "            'recall@10': recall_at_10\n",
    "        }, detailed_df\n",
    "\n",
    "    "
   ]
  },
  {
   "cell_type": "markdown",
   "id": "532b4d72-0d7f-4dbf-8b30-424eb6662f86",
   "metadata": {},
   "source": [
    "## Prepare for evaluation"
   ]
  },
  {
   "cell_type": "code",
   "execution_count": 50,
   "id": "e8bc7feb-bd6b-4cd2-bd86-dc9c3ce8c38c",
   "metadata": {},
   "outputs": [],
   "source": [
    "interactions_full_indexed_df = interactionFullDf.set_index('personId')\n",
    "interactions_train_indexed_df = interactions_train_df.set_index('personId')\n",
    "interactions_test_indexed_df = interactions_test_df.set_index('personId')"
   ]
  },
  {
   "cell_type": "code",
   "execution_count": 51,
   "id": "adb147d4-25f2-4923-b385-5f70de898aeb",
   "metadata": {},
   "outputs": [
    {
     "name": "stdout",
     "output_type": "stream",
     "text": [
      "Global Metrics:\n",
      " {'modelName': 'Content_Based', 'recall@5': 0.1758438458915786, 'recall@10': 0.27088305489260145}\n"
     ]
    },
    {
     "data": {
      "text/html": [
       "<div>\n",
       "<style scoped>\n",
       "    .dataframe tbody tr th:only-of-type {\n",
       "        vertical-align: middle;\n",
       "    }\n",
       "\n",
       "    .dataframe tbody tr th {\n",
       "        vertical-align: top;\n",
       "    }\n",
       "\n",
       "    .dataframe thead th {\n",
       "        text-align: right;\n",
       "    }\n",
       "</style>\n",
       "<table border=\"1\" class=\"dataframe\">\n",
       "  <thead>\n",
       "    <tr style=\"text-align: right;\">\n",
       "      <th></th>\n",
       "      <th>hits@5_count</th>\n",
       "      <th>hits@10_count</th>\n",
       "      <th>interacted_count</th>\n",
       "      <th>_person_id</th>\n",
       "    </tr>\n",
       "  </thead>\n",
       "  <tbody>\n",
       "    <tr>\n",
       "      <th>0</th>\n",
       "      <td>3</td>\n",
       "      <td>4</td>\n",
       "      <td>35</td>\n",
       "      <td>-4028919343899978105</td>\n",
       "    </tr>\n",
       "    <tr>\n",
       "      <th>1</th>\n",
       "      <td>6</td>\n",
       "      <td>20</td>\n",
       "      <td>77</td>\n",
       "      <td>3829784524040647339</td>\n",
       "    </tr>\n",
       "    <tr>\n",
       "      <th>2</th>\n",
       "      <td>2</td>\n",
       "      <td>3</td>\n",
       "      <td>22</td>\n",
       "      <td>-7136511247670430002</td>\n",
       "    </tr>\n",
       "    <tr>\n",
       "      <th>3</th>\n",
       "      <td>26</td>\n",
       "      <td>47</td>\n",
       "      <td>194</td>\n",
       "      <td>-1032019229384696495</td>\n",
       "    </tr>\n",
       "    <tr>\n",
       "      <th>4</th>\n",
       "      <td>0</td>\n",
       "      <td>0</td>\n",
       "      <td>2</td>\n",
       "      <td>-2987910693129502800</td>\n",
       "    </tr>\n",
       "    <tr>\n",
       "      <th>5</th>\n",
       "      <td>2</td>\n",
       "      <td>5</td>\n",
       "      <td>26</td>\n",
       "      <td>-1863544689523892600</td>\n",
       "    </tr>\n",
       "    <tr>\n",
       "      <th>6</th>\n",
       "      <td>0</td>\n",
       "      <td>1</td>\n",
       "      <td>5</td>\n",
       "      <td>-2376088187709738156</td>\n",
       "    </tr>\n",
       "    <tr>\n",
       "      <th>7</th>\n",
       "      <td>11</td>\n",
       "      <td>22</td>\n",
       "      <td>104</td>\n",
       "      <td>692689608292948411</td>\n",
       "    </tr>\n",
       "    <tr>\n",
       "      <th>8</th>\n",
       "      <td>22</td>\n",
       "      <td>35</td>\n",
       "      <td>120</td>\n",
       "      <td>-3596626804281480007</td>\n",
       "    </tr>\n",
       "    <tr>\n",
       "      <th>9</th>\n",
       "      <td>0</td>\n",
       "      <td>0</td>\n",
       "      <td>1</td>\n",
       "      <td>-4885223078646518099</td>\n",
       "    </tr>\n",
       "  </tbody>\n",
       "</table>\n",
       "</div>"
      ],
      "text/plain": [
       "   hits@5_count  hits@10_count  interacted_count           _person_id\n",
       "0             3              4                35 -4028919343899978105\n",
       "1             6             20                77  3829784524040647339\n",
       "2             2              3                22 -7136511247670430002\n",
       "3            26             47               194 -1032019229384696495\n",
       "4             0              0                 2 -2987910693129502800\n",
       "5             2              5                26 -1863544689523892600\n",
       "6             0              1                 5 -2376088187709738156\n",
       "7            11             22               104   692689608292948411\n",
       "8            22             35               120 -3596626804281480007\n",
       "9             0              0                 1 -4885223078646518099"
      ]
     },
     "execution_count": 51,
     "metadata": {},
     "output_type": "execute_result"
    }
   ],
   "source": [
    "evaluator = ModelEvaluator()\n",
    "cb_metrics, cb_details = evaluator.evaluate_model(content_model)\n",
    "print(\"Global Metrics:\\n\", cb_metrics)\n",
    "cb_details.head(10)"
   ]
  },
  {
   "cell_type": "code",
   "execution_count": 52,
   "id": "bb7a72e3-427a-411a-a4a2-0affa8435fde",
   "metadata": {},
   "outputs": [
    {
     "data": {
      "text/plain": [
       "{-8992803137960175254,\n",
       " -4700714777342103147,\n",
       " 1959495508923903948,\n",
       " 6031953227014493100,\n",
       " 6519443272707698315}"
      ]
     },
     "execution_count": 52,
     "metadata": {},
     "output_type": "execute_result"
    }
   ],
   "source": [
    "evaluator.get_items_interacted( 1874422396201148365,interactions_test_indexed_df)"
   ]
  },
  {
   "cell_type": "code",
   "execution_count": 53,
   "id": "105c19fe-a6c5-4cfb-8b83-db35b2de4d62",
   "metadata": {},
   "outputs": [],
   "source": [
    "import pickle\n",
    "pickle.dump(item_ids, open(r\"D:\\data science\\project kaggle\\item_ids.p\", \"wb\"))\n",
    "pickle.dump(user_profiles, open(r\"D:\\data science\\project kaggle\\user_profiles.p\", \"wb\"))\n",
    "pickle.dump(tfidf_matrix, open(r\"D:\\data science\\project kaggle\\tfidf_matrix.p\", \"wb\"))\n",
    "pickle.dump(content_model, open(r\"D:\\data science\\project kaggle\\recommend_model.p\", \"wb\"))  "
   ]
  },
  {
   "cell_type": "code",
   "execution_count": null,
   "id": "d68a9ba0-939d-4547-82c6-50d091d98967",
   "metadata": {},
   "outputs": [],
   "source": []
  }
 ],
 "metadata": {
  "kernelspec": {
   "display_name": "Python 3 (ipykernel)",
   "language": "python",
   "name": "python3"
  },
  "language_info": {
   "codemirror_mode": {
    "name": "ipython",
    "version": 3
   },
   "file_extension": ".py",
   "mimetype": "text/x-python",
   "name": "python",
   "nbconvert_exporter": "python",
   "pygments_lexer": "ipython3",
   "version": "3.12.4"
  }
 },
 "nbformat": 4,
 "nbformat_minor": 5
}
